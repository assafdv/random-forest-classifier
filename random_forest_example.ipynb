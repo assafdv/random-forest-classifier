{
 "cells": [
  {
   "cell_type": "markdown",
   "id": "9600767c-8881-497a-bafb-59988c23d813",
   "metadata": {},
   "source": [
    "# Random Forest Classification"
   ]
  },
  {
   "cell_type": "code",
   "execution_count": 1,
   "id": "de15ce98-b9b1-4cce-b922-4f61a724ab47",
   "metadata": {},
   "outputs": [],
   "source": [
    "%load_ext autoreload\n",
    "%autoreload 2"
   ]
  },
  {
   "cell_type": "code",
   "execution_count": 2,
   "id": "eaf5efaf-f7ba-4c14-b2fc-63be61b68dbf",
   "metadata": {},
   "outputs": [],
   "source": [
    "from rf_classifier import RFClassifier\n",
    "from sklearn.datasets import load_iris\n",
    "from sklearn.model_selection import train_test_split\n",
    "from sklearn.metrics import classification_report\n",
    "import matplotlib.pyplot as plt\n",
    "import numpy as np\n",
    "from scorer import Scorer"
   ]
  },
  {
   "cell_type": "markdown",
   "id": "a7053847-6e27-4134-98be-e7cc3a64a961",
   "metadata": {},
   "source": [
    "## Load data"
   ]
  },
  {
   "cell_type": "code",
   "execution_count": 3,
   "id": "edd85f4e-8847-4d53-80e7-e4545eceb485",
   "metadata": {},
   "outputs": [],
   "source": [
    "# cfg\n",
    "n_train = 50"
   ]
  },
  {
   "cell_type": "code",
   "execution_count": 4,
   "id": "e2c62246-dea3-4d44-99f7-877079399b16",
   "metadata": {},
   "outputs": [],
   "source": [
    "# Load data\n",
    "iris = load_iris()\n",
    "X = iris.data\n",
    "y = iris.target"
   ]
  },
  {
   "cell_type": "code",
   "execution_count": 5,
   "id": "23c113da-6f22-4ae8-808b-c96b58955be6",
   "metadata": {},
   "outputs": [
    {
     "data": {
      "text/plain": [
       "(array([0, 1, 2]), array([50, 50, 50]))"
      ]
     },
     "execution_count": 5,
     "metadata": {},
     "output_type": "execute_result"
    }
   ],
   "source": [
    "np.unique(y, return_counts=True)"
   ]
  },
  {
   "cell_type": "code",
   "execution_count": 6,
   "id": "48340dc5-c0e2-49de-a216-8cbacf73af2b",
   "metadata": {},
   "outputs": [
    {
     "data": {
      "text/plain": [
       "<matplotlib.collections.PathCollection at 0x7f89c6cda278>"
      ]
     },
     "execution_count": 6,
     "metadata": {},
     "output_type": "execute_result"
    },
    {
     "data": {
      "image/png": "[encoded data removed]",
      "text/plain": [
       "<Figure size 432x288 with 1 Axes>"
      ]
     },
     "metadata": {
      "needs_background": "light"
     },
     "output_type": "display_data"
    }
   ],
   "source": [
    "plt.scatter(X[y==0,0], X[y==0,1], label=0)\n",
    "plt.scatter(X[y==1,0], X[y==1,1], label=1)\n",
    "plt.scatter(X[y==2,0], X[y==1,2], label=2)"
   ]
  },
  {
   "cell_type": "code",
   "execution_count": 7,
   "id": "6f5639d8-09fb-4d0a-adf7-85cdadeb53e4",
   "metadata": {},
   "outputs": [],
   "source": [
    "# train test split\n",
    "X_train, X_test, y_train, y_test = train_test_split(X, y, test_size=0.33, random_state=42)"
   ]
  },
  {
   "cell_type": "markdown",
   "id": "71131bf9-06b7-4e83-af68-2bc15066befd",
   "metadata": {},
   "source": [
    "## Train model, KF-cv model selection"
   ]
  },
  {
   "cell_type": "code",
   "execution_count": 8,
   "id": "752c934d-eba3-49e8-b24e-92933b9f58c2",
   "metadata": {},
   "outputs": [],
   "source": [
    "# build model\n",
    "clf = RFClassifier(model_selection_score_metric='accuracy')"
   ]
  },
  {
   "cell_type": "code",
   "execution_count": 9,
   "id": "ec535a12-ccca-4056-b331-482acc9bbf89",
   "metadata": {},
   "outputs": [
    {
     "name": "stderr",
     "output_type": "stream",
     "text": [
      "INFO:root:Running Model Selection: KF-CV\n"
     ]
    }
   ],
   "source": [
    "# train + model selection using k-fold CV\n",
    "clf.train(X_train, y_train, model_selection_method='KF-CV')"
   ]
  },
  {
   "cell_type": "code",
   "execution_count": 10,
   "id": "b326120f-199d-42e0-84fc-1b1b27c91e15",
   "metadata": {},
   "outputs": [
    {
     "data": {
      "text/plain": [
       "{'model_name': 'rf',\n",
       " 'n_estimators': 200,\n",
       " 'max_depth': 3,\n",
       " 'min_samples_leaf': 7,\n",
       " 'max_features': 'sqrt',\n",
       " 'class_weight': 'balanced_subsample'}"
      ]
     },
     "execution_count": 10,
     "metadata": {},
     "output_type": "execute_result"
    }
   ],
   "source": [
    "clf.get_params()"
   ]
  },
  {
   "cell_type": "markdown",
   "id": "dca57046-e705-483c-94f8-1bb48f1bd6ce",
   "metadata": {},
   "source": [
    "## Evaluate"
   ]
  },
  {
   "cell_type": "code",
   "execution_count": 11,
   "id": "2bfee771-8e9f-4349-a81e-84bb66967e41",
   "metadata": {},
   "outputs": [],
   "source": [
    "# predict\n",
    "y_pred = clf.predict(X_test)"
   ]
  },
  {
   "cell_type": "code",
   "execution_count": 12,
   "id": "f8f51b34-d80f-467a-9cab-65366d057022",
   "metadata": {},
   "outputs": [
    {
     "name": "stdout",
     "output_type": "stream",
     "text": [
      "              precision    recall  f1-score   support\n",
      "\n",
      "           0       1.00      1.00      1.00        19\n",
      "           1       0.94      1.00      0.97        15\n",
      "           2       1.00      0.94      0.97        16\n",
      "\n",
      "    accuracy                           0.98        50\n",
      "   macro avg       0.98      0.98      0.98        50\n",
      "weighted avg       0.98      0.98      0.98        50\n",
      "\n"
     ]
    }
   ],
   "source": [
    "# evaluate\n",
    "print(classification_report(y_test, y_pred))"
   ]
  }
 ],
 "metadata": {
  "kernelspec": {
   "display_name": "Python 3 (ipykernel)",
   "language": "python",
   "name": "python3"
  },
  "language_info": {
   "codemirror_mode": {
    "name": "ipython",
    "version": 3
   },
   "file_extension": ".py",
   "mimetype": "text/x-python",
   "name": "python",
   "nbconvert_exporter": "python",
   "pygments_lexer": "ipython3",
   "version": "3.7.3"
  }
 },
 "nbformat": 4,
 "nbformat_minor": 5
}
